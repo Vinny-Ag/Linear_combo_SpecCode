{
 "cells": [
  {
   "cell_type": "code",
   "execution_count": 463,
   "metadata": {},
   "outputs": [],
   "source": [
    "import matplotlib.pyplot as plt\n",
    "import pylab\n",
    "import math\n",
    "import numpy as np\n",
    "import scipy\n",
    "from numpy import linalg as LA\n",
    "from numpy.linalg import inv\n",
    "import cmath\n",
    "from scipy import special\n",
    "from scipy import integrate\n",
    "from scipy import interpolate\n",
    "from numpy.polynomial.hermite import hermval"
   ]
  },
  {
   "cell_type": "code",
   "execution_count": 464,
   "metadata": {},
   "outputs": [],
   "source": [
    "num_points = 4000\n",
    "# n = 0\n",
    "expansion_number=10\n",
    "gs_morse = 1 #number of gs Morse wavefunctions that will overlap with excited states, should be dependent on boltzmann distribution\n",
    "ex_morse = 12\n",
    "\n",
    "n_max_gs = 41\n",
    "n_max_ex = 41\n",
    "\n",
    "#hartree energy unit\n",
    "D_gs = 0.475217 #2.071824545e-18 J\n",
    "D_ex = 0.20149  #8.78444853e-19 J\n",
    "\n",
    "#bohr^-1 units\n",
    "alpha_gs = 1.17199002 #6.20190409869e-11 meters^-1\n",
    "alpha_ex = 1.23719524 #6.54695526318e-11 meters^-1\n",
    "\n",
    "#bohr units'\n",
    "shift = 0.201444790427\n",
    "\n",
    "#mass in a.u.\n",
    "mu = 12178.1624678\n",
    "\n",
    "'frequency in a.u.'\n",
    "omega_gs = 0.01599479871665311 #6.61246943e14 Hz\n",
    "omega_ex = 0.01099445915946515\n",
    "# omega_gs = 0.010353662727838314 #4.28020304e14 rad (value when not divided by 2pi)\n",
    "\n",
    "'Hartree units'\n",
    "E_adiabatic =0.0734987\n",
    "\n",
    "\n",
    "Ha_to_eV=27.211396132\n"
   ]
  },
  {
   "cell_type": "code",
   "execution_count": 465,
   "metadata": {},
   "outputs": [],
   "source": [
    "def spring_const(alpha,D):\n",
    "\treturn (alpha**2)*2*D\n",
    "\n",
    "def mode_freq(alpha_gs,D_gs,alpha_ex,D_ex,mu):\n",
    "\tomega_gs = np.sqrt(spring_const(alpha_gs,D_gs)/mu)/2*math.pi\n",
    "\tomega_ex = np.sqrt(spring_const(alpha_ex,D_ex)/mu)/2*math.pi\n",
    "\treturn omega_gs,omega_ex\n",
    "\n",
    "def compute_Harm_eval_n(omega,D,n):\n",
    "\treturn omega*(n+0.5)-(omega**2/(4.0*D)*(n+0.5)**2.0)\n",
    "\n",
    "def find_classical_turning_points_morse(n_max_gs,n_max_ex,alpha_gs,alpha_ex,D_gs,D_ex,shift):\n",
    "\tfreq_gs = mode_freq(alpha_gs,D_gs,alpha_ex,D_ex,mu)[0]\n",
    "\tfreq_ex = mode_freq(alpha_gs,D_gs,alpha_ex,D_ex,mu)[1]\n",
    "\tE_max_gs=compute_Harm_eval_n(freq_gs,D_gs,n_max_gs) # compute the energies for the highest energy morse \n",
    "\tE_max_ex=compute_Harm_eval_n(freq_ex,D_ex,n_max_ex) # state considered\n",
    "\t# find the two classical turning points for the ground state PES\n",
    "\tpoint1_gs = math.sqrt(2*E_max_gs/spring_const(alpha_gs,D_gs))\n",
    "\tpoint2_gs = -math.sqrt(2*E_max_gs/spring_const(alpha_gs,D_gs))\n",
    "\t\n",
    "\tpoint1_ex = math.sqrt(2*E_max_ex/spring_const(alpha_ex,D_ex))+shift\n",
    "\tpoint2_ex = -math.sqrt(2*E_max_ex/spring_const(alpha_ex,D_ex))+shift\n",
    "\n",
    "\t# now find the smallest value and the largest value\n",
    "\tstart_point=min(point1_gs,point2_gs)\n",
    "\tend_point=max(point1_ex,point2_ex)\n",
    "\treturn start_point,end_point\n",
    "\n",
    "\n",
    "start_point=find_classical_turning_points_morse(n_max_gs,n_max_ex,alpha_gs,alpha_ex,D_gs,D_ex,shift)[0]\n",
    "end_point=find_classical_turning_points_morse(n_max_gs,n_max_ex,alpha_gs,alpha_ex,D_gs,D_ex,shift)[1]\n",
    "\n",
    "#mode frequency of each oscillator\n",
    "omega_gs = mode_freq(alpha_gs,D_gs,alpha_ex,D_ex,mu)[0]\n",
    "omega_ex = mode_freq(alpha_gs,D_gs,alpha_ex,D_ex,mu)[1]\n",
    "\n",
    "#quantum turning points, established from 10% increase of classical tp's due to tunneling\n",
    "start_point=start_point-start_point*0.1\n",
    "end_point= end_point+end_point*0.1\n",
    "step_x=(end_point-start_point)/num_points\n",
    "x_range = np.arange(start_point,end_point,step_x)"
   ]
  },
  {
   "cell_type": "code",
   "execution_count": 466,
   "metadata": {},
   "outputs": [],
   "source": [
    "def Harm_wavefunc(x_range,omega,mu,n,shift):\n",
    "\twavefunc=np.zeros((num_points,2))\n",
    "\tr_val=x_range*(math.sqrt(mu*omega))\n",
    "\tr_shift_val=shift*(math.sqrt(mu*omega))\n",
    "\therm_coeffs = np.zeros(n+1)\n",
    "\therm_coeffs[n] = 1\n",
    "\tnorm=1/math.sqrt((2**n)*math.factorial(n))*(mu*omega/math.pi)**(0.25)\n",
    "\t#renormalize to prevent error buildup\n",
    "\tcounter = 0.0\n",
    "\tfor i in range(num_points):\n",
    "\t\twavefunc[i,0]=start_point+counter*step_x\n",
    "\t\tcounter = counter+1\n",
    "\twavefunc[:,1] = norm*np.exp(-((r_val-r_shift_val)**2)/2)*np.polynomial.hermite.hermval(r_val-r_shift_val,herm_coeffs)\n",
    "\tpsi_norm = integrate.simps(wavefunc[:,1]**2,dx=step_x)\n",
    "\twavefunc[:,1] = wavefunc[:,1]/math.sqrt(psi_norm)\n",
    "\t\n",
    "\treturn wavefunc\n"
   ]
  },
  {
   "cell_type": "code",
   "execution_count": 467,
   "metadata": {},
   "outputs": [],
   "source": [
    "\n",
    "def H_e_on_gs_wavefunc(wavefunc,D,alpha,shift,mu,E_adiabatic):\n",
    "    # first interpolate the wavefunction as a spline. Then compute derivative\n",
    "    spl=interpolate.UnivariateSpline(wavefunc[:,0],wavefunc[:,1],s=0,k=4)\n",
    "    second_deriv=spl.derivative(n=2)\n",
    "    # calculate the 2nd derivative data only at the finite number of x values. \n",
    "    second_deriv_dat=second_deriv(wavefunc[:,0])\n",
    "\n",
    "    op_wavefunc=np.zeros((wavefunc.shape[0],2))\n",
    "    op_wavefunc[:,0]=wavefunc[:,0]\n",
    "    op_wavefunc[:,1]=-1.0/(2.0*mu)*second_deriv_dat[:]\n",
    "    for i in range(op_wavefunc.shape[0]):\n",
    "        op_wavefunc[i,1]=op_wavefunc[i,1]+(D*(1.0-np.exp(-alpha*(op_wavefunc[i,0]-shift)))**2.0)*wavefunc[i,1]\n",
    "\n",
    "    return op_wavefunc\n",
    "\n",
    "def gs_wavefunc_He_matrix(num_points,omega,start_point,end_point,D,alpha,shift,mu,E_adiabatic,max_n_gs):\n",
    "    overlap_matrix=np.zeros((max_n_gs,max_n_gs))\n",
    "    final_overlap_matrix = np.zeros((max_n_gs,max_n_gs))   \n",
    "    for i in range(max_n_gs):\n",
    "        func1 = Harm_wavefunc(x_range,omega,mu,i,shift)       \n",
    "        He_func1=H_e_on_gs_wavefunc(func1,D,alpha,shift,mu,E_adiabatic)\n",
    "        for j in range(max_n_gs):\n",
    "            func2 = np.conjugate(Harm_wavefunc(x_range,omega,mu,j,shift))\n",
    "            eff_func = func2[:,1]*He_func1[:,1]\n",
    "            overlap_matrix[j,i] = integrate.simps(eff_func,dx=func2[1,0]-func2[0,0])\n",
    "#     final_overlap_matrix[j,i]=\n",
    "    return overlap_matrix\n",
    "\n"
   ]
  },
  {
   "cell_type": "code",
   "execution_count": 468,
   "metadata": {},
   "outputs": [],
   "source": [
    "# def diagonalize(overlaps):\n",
    "#     P,D = np.linalg.eig(overlaps)\n",
    "#     D[:,i] = \n",
    "    "
   ]
  },
  {
   "cell_type": "code",
   "execution_count": 469,
   "metadata": {},
   "outputs": [
    {
     "name": "stdout",
     "output_type": "stream",
     "text": [
      "\n",
      "\n",
      "(10,)\n",
      "(10, 10)\n"
     ]
    }
   ],
   "source": [
    "\n",
    "print('')\n",
    "print('')\n",
    "\n",
    "print(P.shape)\n",
    "print(D.shape)"
   ]
  },
  {
   "cell_type": "code",
   "execution_count": 470,
   "metadata": {},
   "outputs": [],
   "source": [
    "# LC_func=Linear_combo_Harm(x_range,omega_gs,D_gs,alpha_gs,mu,expansion_number,shift)\n",
    "# print((LC_func))\n",
    "# # print(LC_func)"
   ]
  },
  {
   "cell_type": "code",
   "execution_count": 471,
   "metadata": {},
   "outputs": [],
   "source": [
    "# def Eval_matrix(omega,D,n):\n",
    "#     Eval_matrix = np.zeros((n,n))\n",
    "#     for i in range(n):\n",
    "#         Morse_eval = compute_Harm_eval_n(omega,D,i)\n",
    "#         Eval_matrix[i,i] = Morse_eval\n",
    "#     return Eval_matrix"
   ]
  },
  {
   "cell_type": "code",
   "execution_count": 472,
   "metadata": {},
   "outputs": [],
   "source": [
    "# print(Eval_matrix(omega_gs,D_gs,expansion_number))"
   ]
  },
  {
   "cell_type": "code",
   "execution_count": 473,
   "metadata": {},
   "outputs": [],
   "source": [
    "# def matrix_combine(x_range,omega,D,alpha,mu,n,shift):\n",
    "#     LC_func=Linear_combo_Harm(x_range,omega,D,alpha,mu,n,shift)\n",
    "#     Eval_Matrix = Eval_matrix(omega_gs,D_gs,n)\n",
    "#     for i in range(n):\n",
    "#         wavefunc_bra = np.transpose(np.conjugate(LC_func))\n",
    "#         total_func = np.dot(np.dot(wavefunc_bra[:,i],LC_func[i,:]),Eval_Matrix[i,:])\n",
    "#         tot_func_matrix = \n",
    "#     return total_func"
   ]
  },
  {
   "cell_type": "markdown",
   "metadata": {},
   "source": [
    "**LC_coefficients function**\n",
    "\n",
    "The LC_coefficients function below has two return outputs. The squared coefficcients are used as a failsafe to determine if your overlaps are caculated correctly. For any given function you are building with an LC of harmonic oscillators, the sum of their squared coefficients should approach 1 with increasing coeffs. For calculationsinvovling summing the coefficients you must use the \"unsquared\" list of coeffs."
   ]
  },
  {
   "cell_type": "code",
   "execution_count": 474,
   "metadata": {},
   "outputs": [],
   "source": [
    "\n",
    "\n",
    "\n",
    "def Linear_combo_wfs(x_range,omega,D,alpha,mu,expansion_number,shift,overlaps):\n",
    "    EIG,COEF = np.linalg.eig(overlaps)\n",
    "    LC_func = np.zeros((num_points,expansion_number))\n",
    "    LC_func_final = np.zeros((num_points,2))\n",
    "    for i in range (expansion_number):\n",
    "        LC_func[:,i] = Harm_wavefunc(x_range,omega,mu,i,shift)[:,1]*COEF[i,0] \n",
    "    LC_func_final[:,0] = x_range\n",
    "    LC_func_final[:,1] = LC_func.sum(axis=1)\n",
    "    return LC_func_final"
   ]
  },
  {
   "cell_type": "code",
   "execution_count": null,
   "metadata": {},
   "outputs": [],
   "source": []
  },
  {
   "cell_type": "code",
   "execution_count": 475,
   "metadata": {},
   "outputs": [],
   "source": [
    "def Morse_wavefunc(num_points,start_point,end_point,D,alpha,mu,n,shift):\n",
    "        # first start by filling array with position points:\n",
    "        wavefunc=np.zeros((num_points,2))\n",
    "        lamda=math.sqrt(2.0*D*mu)/(alpha)\n",
    "        step_x=(end_point-start_point)/num_points\n",
    "        denom=special.gamma(2.0*lamda-n)\n",
    "        if np.isinf(denom):\n",
    "                denom=10e280\n",
    "        num=(math.factorial(n)*(2.0*lamda-2.0*n-1.0))\n",
    "        normalization=math.sqrt(num/denom)\n",
    "        counter=0\n",
    "        for x in wavefunc:\n",
    "                x[0]=start_point+counter*step_x\n",
    "                r_val=(start_point+counter*step_x)*alpha\n",
    "                r_shift_val=(shift)*alpha\n",
    "                z_val=2.0*lamda*math.exp(-(r_val-r_shift_val))\n",
    "                func_val=normalization*z_val**(lamda-n-0.5)*math.exp(-0.5*z_val)*special.assoc_laguerre(z_val,n,2.0*lamda-2.0*n-1.0)\n",
    "                x[1]=func_val\n",
    "                counter=counter+1\n",
    "\n",
    "\t# fix normalization regardless of value of denominator to avoid rounding errors\n",
    "        wavefunc_sq=np.zeros(wavefunc.shape[0])\n",
    "        wavefunc_sq[:]=wavefunc[:,1]*wavefunc[:,1]\n",
    "        normalization=integrate.simps(wavefunc_sq,dx=step_x)\n",
    "        for counter in range(wavefunc.shape[0]):\n",
    "                wavefunc[counter,1]=wavefunc[counter,1]/math.sqrt(normalization)\n",
    "\n",
    "        return wavefunc"
   ]
  },
  {
   "cell_type": "code",
   "execution_count": 487,
   "metadata": {},
   "outputs": [
    {
     "name": "stdout",
     "output_type": "stream",
     "text": [
      "(4000, 2)\n"
     ]
    }
   ],
   "source": [
    "overlaps = gs_wavefunc_He_matrix(num_points,omega_gs,start_point,end_point,D_gs,alpha_gs,0.0,mu,0.0,expansion_number)\n",
    "\n",
    "Morse_exact = Morse_wavefunc(num_points,start_point,end_point,D_gs,alpha_gs,mu,0,0.0)\n",
    "Morse_appx = Linear_combo_wfs(x_range,omega_gs,D_gs,alpha_gs,mu,expansion_number,0.1,overlaps)\n",
    "print(Morse_appx.shape)"
   ]
  },
  {
   "cell_type": "code",
   "execution_count": 488,
   "metadata": {},
   "outputs": [
    {
     "data": {
      "image/png": "[encoded data removed]",
      "text/plain": [
       "<Figure size 1080x1080 with 1 Axes>"
      ]
     },
     "metadata": {
      "needs_background": "light"
     },
     "output_type": "display_data"
    }
   ],
   "source": [
    "wavefunc = Harm_wavefunc(x_range,omega_gs,mu,0,0.0)\n",
    "\n",
    "\n",
    "fig,ax = plt.subplots(figsize=(15,15))\n",
    "\n",
    "x = Morse_appx[:,0]\n",
    "y = Morse_appx[:,1]\n",
    "\n",
    "x1 = wavefunc[:,0]\n",
    "y1 = wavefunc[:,1]\n",
    "\n",
    "x2 = Morse_exact[:,0]\n",
    "y2 = Morse_exact[:,1]\n",
    "\n",
    "\n",
    "line1 = ax.plot(x,y,color='magenta',label='Morse_appx')\n",
    "line2 = ax.plot(x1,y1,color='blue',label='Harm')\n",
    "line2 = ax.plot(x2,y2,color='orange',label='Harm')\n",
    "plt.show()\n",
    "\n",
    "# print('coefficients:',coefficients)\n",
    "# print('coefficients sum SQ:',sum(coefficients**2))\n",
    "# print('')\n"
   ]
  },
  {
   "cell_type": "code",
   "execution_count": null,
   "metadata": {},
   "outputs": [],
   "source": []
  },
  {
   "cell_type": "code",
   "execution_count": null,
   "metadata": {},
   "outputs": [],
   "source": []
  }
 ],
 "metadata": {
  "kernelspec": {
   "display_name": "Python 3",
   "language": "python",
   "name": "python3"
  },
  "language_info": {
   "codemirror_mode": {
    "name": "ipython",
    "version": 3
   },
   "file_extension": ".py",
   "mimetype": "text/x-python",
   "name": "python",
   "nbconvert_exporter": "python",
   "pygments_lexer": "ipython3",
   "version": "3.7.6"
  }
 },
 "nbformat": 4,
 "nbformat_minor": 4
}
