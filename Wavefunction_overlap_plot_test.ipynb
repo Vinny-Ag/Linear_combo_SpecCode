{
 "cells": [
  {
   "cell_type": "code",
   "execution_count": 286,
   "metadata": {},
   "outputs": [],
   "source": [
    "import matplotlib.pyplot as plt\n",
    "import pylab\n",
    "import math\n",
    "import numpy as np\n",
    "import scipy\n",
    "import cmath\n",
    "from scipy import special\n",
    "from scipy import integrate\n",
    "from numpy.polynomial.hermite import hermval"
   ]
  },
  {
   "cell_type": "code",
   "execution_count": 367,
   "metadata": {},
   "outputs": [],
   "source": [
    "num_points = 4000\n",
    "n = 30\n",
    "expansion_number=90\n",
    "gs_morse = 1 #number of gs Morse wavefunctions that will overlap with excited states, should be dependent on boltzmann distribution\n",
    "ex_morse = 41\n",
    "\n",
    "n_max_gs = 41\n",
    "n_max_ex = 41\n",
    "\n",
    "#hartree energy unit\n",
    "D_gs = 0.475217 #2.071824545e-18 J\n",
    "D_ex = 0.20149  #8.78444853e-19 J\n",
    "\n",
    "#bohr^-1 units\n",
    "alpha_gs = 1.17199002 #6.20190409869e-11 meters^-1\n",
    "alpha_ex = 1.23719524 #6.54695526318e-11 meters^-1\n",
    "\n",
    "#bohr units'\n",
    "shift_ex = 0.201444790427\n",
    "\n",
    "#mass in a.u.\n",
    "mu = 12178.1624678\n",
    "\n",
    "'frequency in a.u.'\n",
    "omega_gs = 0.01599479871665311 #6.61246943e14 Hz\n",
    "omega_ex = 0.01099445915946515\n",
    "# omega_gs = 0.010353662727838314 #4.28020304e14 rad (value when not divided by 2pi)\n",
    "\n",
    "'Hartree units'\n",
    "adiabatic =0.0734987\n",
    "\n",
    "\n",
    "Ha_to_eV=27.211396132"
   ]
  },
  {
   "cell_type": "code",
   "execution_count": 368,
   "metadata": {},
   "outputs": [],
   "source": [
    "def spring_const(alpha,D):\n",
    "\treturn (alpha**2)*2*D\n",
    "\n",
    "def mode_freq(alpha_gs,D_gs,alpha_ex,D_ex,mu):\n",
    "\tomega_gs = np.sqrt(spring_const(alpha_gs,D_gs)/mu)/2*math.pi\n",
    "\tomega_ex = np.sqrt(spring_const(alpha_ex,D_ex)/mu)/2*math.pi\n",
    "\treturn omega_gs,omega_ex\n",
    "\n",
    "def compute_Harm_eval_n(omega,D,n):\n",
    "\treturn omega*(n+0.5)-(omega**2/(4.0*D)*(n+0.5)**2.0)\n",
    "\n",
    "def find_classical_turning_points_morse(n_max_gs,n_max_ex,alpha_gs,alpha_ex,D_gs,D_ex,shift):\n",
    "\tfreq_gs = mode_freq(alpha_gs,D_gs,alpha_ex,D_ex,mu)[0]\n",
    "\tfreq_ex = mode_freq(alpha_gs,D_gs,alpha_ex,D_ex,mu)[1]\n",
    "\tE_max_gs=compute_Harm_eval_n(freq_gs,D_gs,n_max_gs) # compute the energies for the highest energy morse \n",
    "\tE_max_ex=compute_Harm_eval_n(freq_ex,D_ex,n_max_ex) # state considered\n",
    "\t# find the two classical turning points for the ground state PES\n",
    "\tpoint1_gs = math.sqrt(2*E_max_gs/spring_const(alpha_gs,D_gs))\n",
    "\tpoint2_gs = -math.sqrt(2*E_max_gs/spring_const(alpha_gs,D_gs))\n",
    "\t\n",
    "\tpoint1_ex = math.sqrt(2*E_max_ex/spring_const(alpha_ex,D_ex))+shift\n",
    "\tpoint2_ex = -math.sqrt(2*E_max_ex/spring_const(alpha_ex,D_ex))+shift\n",
    "\n",
    "\t# now find the smallest value and the largest value\n",
    "\tstart_point=min(point1_gs,point2_gs)\n",
    "\tend_point=max(point1_ex,point2_ex)\n",
    "\treturn start_point,end_point\n",
    "\n"
   ]
  },
  {
   "cell_type": "code",
   "execution_count": 369,
   "metadata": {},
   "outputs": [],
   "source": [
    "start_point=find_classical_turning_points_morse(n_max_gs,n_max_ex,alpha_gs,alpha_ex,D_gs,D_ex,shift_ex)[0]\n",
    "end_point=find_classical_turning_points_morse(n_max_gs,n_max_ex,alpha_gs,alpha_ex,D_gs,D_ex,shift_ex)[1]\n",
    "\n",
    "#mode frequency of each oscillator\n",
    "omega_gs = mode_freq(alpha_gs,D_gs,alpha_ex,D_ex,mu)[0]\n",
    "omega_ex = mode_freq(alpha_gs,D_gs,alpha_ex,D_ex,mu)[1]\n",
    "\n",
    "#quantum turning points, established from 10% increase of classical tp's due to tunneling\n",
    "start_point=start_point-start_point*0.1\n",
    "end_point= end_point+end_point*0.1\n",
    "step_x=(end_point-start_point)/num_points\n",
    "x_range = np.arange(start_point,end_point,step_x)"
   ]
  },
  {
   "cell_type": "code",
   "execution_count": 370,
   "metadata": {},
   "outputs": [],
   "source": [
    "def Harm_wavefunc(x_range,omega,mu,n,shift):\n",
    "\twavefunc=np.zeros((num_points,2))\n",
    "\tr_val=x_range*(math.sqrt(mu*omega))\n",
    "\tr_shift_val=shift*(math.sqrt(mu*omega))\n",
    "\therm_coeffs = np.zeros(n+1)\n",
    "\therm_coeffs[n] = 1\n",
    "\tnorm=1/math.sqrt((2**n)*math.factorial(n))*(mu*omega/math.pi)**(0.25)\n",
    "\t#renormalize to prevent error buildup\n",
    "\tcounter = 0.0\n",
    "\tfor i in range(num_points):\n",
    "\t\twavefunc[i,0]=start_point+counter*step_x\n",
    "\t\tcounter = counter+1\n",
    "\twavefunc[:,1] = norm*np.exp(-((r_val-r_shift_val)**2)/2)*np.polynomial.hermite.hermval(r_val-r_shift_val,herm_coeffs)\n",
    "\tpsi_norm = integrate.simps(wavefunc[:,1]**2,dx=step_x)\n",
    "\twavefunc[:,1] = wavefunc[:,1]/math.sqrt(psi_norm)\n",
    "\t\n",
    "\treturn wavefunc"
   ]
  },
  {
   "cell_type": "code",
   "execution_count": null,
   "metadata": {},
   "outputs": [],
   "source": []
  },
  {
   "cell_type": "code",
   "execution_count": 371,
   "metadata": {},
   "outputs": [],
   "source": [
    "def Morse_wavefunc(num_points,start_point,end_point,D,alpha,mu,n,shift):\n",
    "        # first start by filling array with position points:\n",
    "        wavefunc=np.zeros((num_points,2))\n",
    "        lamda=math.sqrt(2.0*D*mu)/(alpha)\n",
    "        step_x=(end_point-start_point)/num_points\n",
    "        denom=special.gamma(2.0*lamda-n)\n",
    "        if np.isinf(denom):\n",
    "                denom=10e280\n",
    "        num=(math.factorial(n)*(2.0*lamda-2.0*n-1.0))\n",
    "        normalization=math.sqrt(num/denom)\n",
    "        counter=0\n",
    "        for x in wavefunc:\n",
    "                x[0]=start_point+counter*step_x\n",
    "                r_val=(start_point+counter*step_x)*alpha\n",
    "                r_shift_val=(shift)*alpha\n",
    "                z_val=2.0*lamda*math.exp(-(r_val-r_shift_val))\n",
    "                func_val=normalization*z_val**(lamda-n-0.5)*math.exp(-0.5*z_val)*special.assoc_laguerre(z_val,n,2.0*lamda-2.0*n-1.0)\n",
    "                x[1]=func_val\n",
    "                counter=counter+1\n",
    "\n",
    "\t# fix normalization regardless of value of denominator to avoid rounding errors\n",
    "        wavefunc_sq=np.zeros(wavefunc.shape[0])\n",
    "        wavefunc_sq[:]=wavefunc[:,1]*wavefunc[:,1]\n",
    "        normalization=integrate.simps(wavefunc_sq,dx=step_x)\n",
    "        for counter in range(wavefunc.shape[0]):\n",
    "                wavefunc[counter,1]=wavefunc[counter,1]/math.sqrt(normalization)\n",
    "\n",
    "        return wavefunc"
   ]
  },
  {
   "cell_type": "code",
   "execution_count": null,
   "metadata": {},
   "outputs": [],
   "source": []
  },
  {
   "cell_type": "markdown",
   "metadata": {},
   "source": [
    "**LC_coefficients function**\n",
    "\n",
    "The LC_coefficients function below has two return outputs. The squared coefficcients are used as a failsafe to determine if your overlaps are caculated correctly. For any given function you are building with an LC of harmonic oscillators, the sum of their squared coefficients should approach 1 with increasing coeffs. For calculationsinvovling summing the coefficients you must use the \"unsquared\" list of coeffs."
   ]
  },
  {
   "cell_type": "code",
   "execution_count": 372,
   "metadata": {},
   "outputs": [],
   "source": [
    "def LC_coefficients(x_range,omega,num_points,start_point,end_point,D,alpha,mu,n,expansion_number,shift):\n",
    "    morse = Morse_wavefunc(num_points,start_point,end_point,D,alpha,mu,n,shift)\n",
    "    LC_coeffs = np.zeros(expansion_number)\n",
    "    for i in range(expansion_number):\n",
    "        LC_coeffs[i] = integrate.simps(morse[:,1]*Harm_wavefunc(x_range,omega,mu,i,shift)[:,1],x_range)\n",
    "    return LC_coeffs"
   ]
  },
  {
   "cell_type": "code",
   "execution_count": 393,
   "metadata": {},
   "outputs": [
    {
     "name": "stdout",
     "output_type": "stream",
     "text": [
      "coefficients: [ 9.95025728e-09 -5.77269244e-07 -1.52799360e-06  1.52011922e-05\n",
      "  4.72242539e-05 -1.86837404e-04 -6.92045124e-04  1.32872585e-03\n",
      "  6.04137174e-03 -5.95978723e-03 -3.43500612e-02  1.74109065e-02\n",
      "  1.33246769e-01 -4.20082901e-02 -3.32058710e-01  7.66307464e-02\n",
      "  5.43099506e-01 -3.16708939e-01  8.56696770e-02 -2.80243109e-01\n",
      " -6.52841082e-02  6.71901805e-02  1.38328896e-01  1.59578853e-01\n",
      "  7.06440467e-02 -3.69164765e-02 -1.21806295e-01 -1.50344248e-01\n",
      " -1.14874188e-01 -3.79155648e-02  4.89443305e-02  1.14931477e-01\n",
      "  1.40556469e-01  1.21830610e-01  6.82425518e-02 -2.20034920e-03\n",
      " -6.93408748e-02 -1.16436713e-01 -1.33689949e-01 -1.19432975e-01\n",
      " -7.92183841e-02 -2.35065732e-02  3.52368175e-02  8.53108982e-02\n",
      "  1.17898126e-01  1.28268284e-01  1.16038504e-01  8.46359294e-02\n",
      "  4.02133137e-02 -9.69844119e-03 -5.75378432e-02 -9.68534954e-02\n",
      " -1.23102961e-01 -1.34048882e-01 -1.29760052e-01 -1.12284793e-01\n",
      " -8.51092759e-02 -5.25332160e-02 -1.90771865e-02  1.10211204e-02\n",
      "  3.42351476e-02  4.81476440e-02  5.18077189e-02  4.59185882e-02\n",
      "  3.26932786e-02  1.53722354e-02 -2.40105479e-03 -1.71645473e-02\n",
      " -2.61989686e-02 -2.81154654e-02 -2.32406573e-02 -1.34480110e-02\n",
      " -1.51625384e-03  9.52550588e-03  1.69136601e-02  1.88057652e-02\n",
      "  1.50222522e-02  7.16357789e-03 -2.12245067e-03 -9.98989467e-03\n",
      " -1.40154458e-02 -1.29659103e-02 -7.48375575e-03  1.95587048e-04\n",
      "  7.26721642e-03  1.12173585e-02  1.06048824e-02  5.84002592e-03\n",
      " -9.37196621e-04 -6.93677069e-03]\n",
      "coefficients sum SQ: 0.998499846770859\n",
      "\n"
     ]
    }
   ],
   "source": [
    "\n",
    "# coefficients = LC_coefficients(x_range,omega_ex,num_points,start_point,end_point,D_ex,alpha_ex,mu,n,expansion_number,shift_ex)\n",
    "# plt.plot(coefficients)\n",
    "print('coefficients:',LC_coefficients(x_range,omega_ex,num_points,start_point,end_point,D_ex,alpha_ex,mu,n,expansion_number,shift_ex))\n",
    "print('coefficients sum SQ:',sum(LC_coefficients(x_range,omega_gs,num_points,start_point,end_point,D_ex,alpha_ex,mu,n,expansion_number,shift_ex)**2))\n",
    "print('')\n",
    "\n",
    "#sum of your squared overlap coefficients should approach convergence to 1 with increase in total states"
   ]
  },
  {
   "cell_type": "code",
   "execution_count": null,
   "metadata": {},
   "outputs": [],
   "source": []
  },
  {
   "cell_type": "code",
   "execution_count": 374,
   "metadata": {},
   "outputs": [],
   "source": [
    "def Linear_combo_wfs(x_range,omega,D,alpha,mu,n,expansion_number,shift):\n",
    "\tcoefficients=LC_coefficients(x_range,omega,num_points,start_point,end_point,D,alpha,mu,n,expansion_number,shift)\n",
    "\tLC_func = np.zeros((num_points,expansion_number))\n",
    "\tfor i in range (expansion_number):\n",
    "\t\tLC_func[:,i]=Harm_wavefunc(x_range,omega,mu,i,shift)[:,1]*coefficients[i]\n",
    "\t#print(LC_func)\n",
    "\treturn LC_func.sum(axis=1)"
   ]
  },
  {
   "cell_type": "code",
   "execution_count": null,
   "metadata": {},
   "outputs": [],
   "source": []
  },
  {
   "cell_type": "code",
   "execution_count": 375,
   "metadata": {},
   "outputs": [],
   "source": [
    "def LC_func_overlaps(x_range,omega_gs,omega_ex,D_ex,alpha_ex,D_gs,alpha_gs,mu,gs_morse,ex_morse,expansion_number,shift):\n",
    "\tgs_LC_morse=np.zeros((num_points,gs_morse))\n",
    "\tex_LC_morse=np.zeros((num_points,ex_morse))\n",
    "\tgs_ex_Mat=np.zeros((gs_morse,ex_morse))\n",
    "\tcounter=0\n",
    "\tstep0=start_point\n",
    "\tstep1=start_point+step_x\n",
    "\tfor i in range(gs_morse):\n",
    "\t\tgs_LC_morse[:,i]=Linear_combo_wfs(x_range,omega_gs,D_gs,alpha_gs,mu,i,expansion_number,0.0) #start_point+counter*step_x\n",
    "\tprint('gs_LC_Morse',gs_LC_morse)\n",
    "\t\n",
    "\tfor j in range(ex_morse):\n",
    "\t\tex_LC_morse[:,j] = Linear_combo_wfs(x_range,omega_ex,D_ex,alpha_ex,mu,j,expansion_number,shift)\n",
    "\tprint('ex_LC_Morse',ex_LC_morse)\n",
    "\t\n",
    "\tfor k in range(gs_morse):\n",
    "\t\tfor l in range(ex_morse):\n",
    "\t\t\toverlap=gs_LC_morse[:,k]*ex_LC_morse[:,l]\n",
    "\t\t\tgs_ex_Mat[k,l]=integrate.simps(gs_LC_morse[:,k]*ex_LC_morse[:,l],dx=step1-step0)\n",
    "\treturn gs_ex_Mat\n"
   ]
  },
  {
   "cell_type": "code",
   "execution_count": null,
   "metadata": {},
   "outputs": [],
   "source": []
  },
  {
   "cell_type": "code",
   "execution_count": 376,
   "metadata": {},
   "outputs": [],
   "source": [
    "# print('MORSE LC OVERLAP MAT:', LC_func_overlaps(x_range,omega_gs,omega_ex,D_ex,alpha_ex,D_gs,alpha_gs,mu,gs_morse,ex_morse,expansion_number,shift_ex)**2)\n",
    "# plt.plot(LC_func_overlaps(x_range,omega_gs,omega_ex,D_ex,alpha_ex,D_gs,alpha_gs,mu,gs_morse,ex_morse,expansion_number,shift_ex)[0,:]**2)\n",
    "\n",
    "def transition_energy(omega_ex,D_ex,omega_gs,D_gs,n):\n",
    "\tE_gs=compute_Harm_eval_n(omega_gs,D_gs,n)\n",
    "\tE_ex=compute_Harm_eval_n(omega_ex,D_ex,n)\n",
    "\treturn (E_ex-E_gs)+adiabatic"
   ]
  },
  {
   "cell_type": "code",
   "execution_count": 377,
   "metadata": {},
   "outputs": [],
   "source": [
    "def energy_distribution(alpha_gs,D_gs,alpha_ex,D_ex,mu,gs_morse,ex_morse):\n",
    "\tmax_abs = D_ex+transition_energy(omega_ex,D_ex,omega_gs,D_gs,0)+0.09#+transition_energy(omega_ex,D_ex,omega_gs,D_gs,0)#(D_ex+adiabatic)*Ha_to_eV-compute_Harm_eval_n(omega_gs,D_gs,0)*au_to_fs*hbar_in_eVfs#largest possible excitation energy\n",
    "# \tfreq_ex = mode_freq(alpha_gs,D_gs,alpha_ex,D_ex,mu)[1]\n",
    "\tmin_abs = transition_energy(omega_ex,D_ex,omega_gs,D_gs,0)#0-0 transition # compute the energies for the highest energy morse \n",
    "# \tmax_abs = compute_Harm_eval_n(freq_ex,D_ex,n_max_ex)+transition_energy(omega_ex,D_ex,omega_gs,D_gs,0)# state considered\n",
    "# \tvib_ex1 = compute_Harm_eval_n(omega_ex,D_ex,1)#+adiabatic*Ha_to_eV\n",
    "# \tvib_ex0 = compute_Harm_eval_n(omega_ex,D_ex,0)\n",
    "\t'''doesnt take in to account the decrease in vibrational eigenvalue energy difference as state increases definitely a source of error \n",
    "\tcan we add a decay rate???'''\n",
    "\tE_vib=np.zeros(gs_morse*ex_morse)\n",
    "\tfor i in range(gs_morse*ex_morse):\n",
    "\t\tE_vib[i]= compute_Harm_eval_n(omega_ex,D_ex,i)-compute_Harm_eval_n(omega_ex,D_ex,0) #energy difference between two vibrational harmonic eigenstates\n",
    "\t\n",
    "\tE_trans = np.zeros(gs_morse*ex_morse)\n",
    "\tE_range= np.zeros(num_points)\n",
    "\tE_stepx = (max_abs-min_abs)/num_points\n",
    "\n",
    "\t\n",
    "\t#populate E_trans with vibronic transition energies\n",
    "\tfor i in range(gs_morse*ex_morse):\n",
    "\t\tif i == 0:\n",
    "\t\t\tE_trans[i]=min_abs #the zero position \n",
    "\t\telse:\n",
    "\t\t\tE_trans[i]=min_abs + E_vib[i]\n",
    "\t\n",
    "\t#'populate E_range with energy grid over which to plot spectrum  (in eV)'\n",
    "\tfor i in range(num_points):\n",
    "\t\tE_range[i] = (min_abs-(min_abs*.2))+i*E_stepx #subtracted 20% from min_abs to capture full peak width (min_abs-(min_abs*0.1))\n",
    "\t\t\n",
    "\treturn E_trans,E_range"
   ]
  },
  {
   "cell_type": "code",
   "execution_count": 378,
   "metadata": {},
   "outputs": [],
   "source": [
    "def gaussian_setup(alpha_gs,D_gs,alpha_ex,D_ex,mu,gs_morse,ex_morse):\n",
    "\tE_range = energy_distribution(alpha_gs,D_gs,alpha_ex,D_ex,mu,gs_morse,ex_morse)[1]\n",
    "\tE_trans = energy_distribution(alpha_gs,D_gs,alpha_ex,D_ex,mu,gs_morse,ex_morse)[0]\n",
    "\ts = 0.001 #arbitrary gaussian SD, causes linewidth to change\n",
    "\tfull_function = np.zeros((num_points,gs_morse*ex_morse))\n",
    "\tfor i in range(gs_morse*ex_morse):\n",
    "\t\tfor k in range(num_points):\n",
    "\t\t\tfull_function[k,i]=np.exp(-(E_range[k]-E_trans[i])**2/(2*s**2))\n",
    "\n",
    "\treturn full_function\n"
   ]
  },
  {
   "cell_type": "code",
   "execution_count": 379,
   "metadata": {},
   "outputs": [],
   "source": [
    "def plot_setup(x_range,alpha_gs,D_gs,alpha_ex,D_ex,mu,gs_morse,ex_morse,expansion_number,shift):\n",
    "\tfull_function = gaussian_setup(alpha_gs,D_gs,alpha_ex,D_ex,mu,gs_morse,ex_morse)\n",
    "\toverlap_coefs = LC_func_overlaps(x_range,omega_gs,omega_ex,D_ex,alpha_ex,D_gs,alpha_gs,mu,gs_morse,ex_morse,expansion_number,shift)\n",
    "\toverlap_function=np.zeros((num_points,gs_morse*ex_morse))\n",
    "\tsumed_function = np.zeros((num_points,1))\n",
    "\tfor i in range(gs_morse):\n",
    "\t\tfor j in range(ex_morse):\n",
    "\t\t\toverlap_function[:,j] = full_function[:,j]*overlap_coefs[i,j]**2\n",
    "\tprint('overlap_func',overlap_function)\n",
    "# \tfor i in range(num_points):\n",
    "# \t\tsumed_function[i] = sum(overlap_function[i,:])\n",
    "\tsumed_function = overlap_function.sum(axis=1)\n",
    "\treturn sumed_function"
   ]
  },
  {
   "cell_type": "code",
   "execution_count": 380,
   "metadata": {},
   "outputs": [],
   "source": [
    "def absorbance_correction(x_range,alpha_gs,D_gs,alpha_ex,D_ex,mu,gs_morse,ex_morse,shift):\n",
    "\tE_range = energy_distribution(alpha_gs,D_gs,alpha_ex,D_ex,mu,gs_morse,ex_morse)[1]\n",
    "\tsummed_function = plot_setup(x_range,alpha_gs,D_gs,alpha_ex,D_ex,mu,gs_morse,ex_morse,expansion_number,shift)\n",
    "\tadjusted_plot=np.zeros((summed_function.shape[0],1))\n",
    "\tfor i in range(num_points):\n",
    "\t\tadjusted_plot[i]= summed_function[i]*2.7347*E_range[i]*Ha_to_eV#*40.0*math.pi**2.0*fine_struct*E_range[i]/(3.0*math.log(10.0))*2.7347\n",
    "\treturn adjusted_plot"
   ]
  },
  {
   "cell_type": "code",
   "execution_count": 381,
   "metadata": {},
   "outputs": [],
   "source": [
    "E_range = energy_distribution(alpha_gs,D_gs,alpha_ex,D_ex,mu,gs_morse,ex_morse)[1]\n",
    "# plot_ready_function =absorbance_correction(x_range,alpha_gs,D_gs,alpha_ex,D_ex,mu,gs_morse,ex_morse,shift_ex)\n",
    "# print('plot_ready_func:',plot_ready_function.shape)\n"
   ]
  },
  {
   "cell_type": "code",
   "execution_count": 382,
   "metadata": {},
   "outputs": [],
   "source": [
    "def write_output(plot_ready_function,E_range):\n",
    "\tspectrum_file = open('./Linear_combo.out', 'w')\n",
    "\txarray = np.array(E_range*Ha_to_eV)\n",
    "\tyarray = np.array(plot_ready_function)\n",
    "\tdata = np.column_stack([xarray,yarray])\n",
    "\tnp.savetxt(spectrum_file,data,fmt=['%10.10f','%10.10f'])\n",
    "\tspectrum_file.close()\n",
    "\treturn spectrum_file"
   ]
  },
  {
   "cell_type": "code",
   "execution_count": null,
   "metadata": {},
   "outputs": [],
   "source": [
    "my_file = write_output(plot_ready_function,E_range)\n"
   ]
  },
  {
   "cell_type": "code",
   "execution_count": null,
   "metadata": {},
   "outputs": [],
   "source": []
  },
  {
   "cell_type": "code",
   "execution_count": 408,
   "metadata": {},
   "outputs": [
    {
     "data": {
      "image/png": "[encoded data removed]",
      "text/plain": [
       "<Figure size 1080x1080 with 1 Axes>"
      ]
     },
     "metadata": {
      "needs_background": "light"
     },
     "output_type": "display_data"
    }
   ],
   "source": [
    "Morse_from_LC_of_Harm_osc_10n=Linear_combo_wfs(x_range,omega_gs,D_gs,alpha_gs,mu,n,expansion_number,0.0)\n",
    "Morse_gs_v0 = Morse_wavefunc(num_points,start_point,end_point,D_gs,alpha_gs,mu,n,0)\n",
    "Harmonic_v0 = Harm_wavefunc(x_range,omega_gs,mu,n,0)\n",
    "\n",
    "x = x_range\n",
    "\n",
    "\n",
    "fig,ax = plt.subplots(figsize=(15,15))\n",
    "\n",
    "\n",
    "############# to plot wavefunctions########################\n",
    "# y1 = Morse_from_LC_of_Harm_osc_10n[:]\n",
    "# y2 = Morse_gs_v0[:,1]\n",
    "# y3 = Harmonic_v0[:,1]\n",
    "\n",
    "# line1 = ax.plot(x,y1,color='red',label='n=30')\n",
    "# line2 = ax.plot(x,y2,color='orange',label='Exact')\n",
    "# line3 = ax.plot(x,y3,color='magenta',label='Harm')\n",
    "\n",
    "# plt.title('Harmonic LC of Morse v=10',fontsize='xx-large')\n",
    "# ax.set_xlabel('Bond Displacent (bohr)',fontsize='xx-large')\n",
    "# ax.set_ylabel('Intensity',fontsize='xx-large')\n",
    "\n",
    "################to plot vibronic spectrum###################\n",
    "# line4 = ax.plot(E_range*Ha_to_eV,plot_ready_function)\n",
    "# plt.title('LC Morse Vibronic Spectrum',fontsize='xx-large')\n",
    "# ax.set_xlabel('Energy (eV)',fontsize='xx-large')\n",
    "# ax.set_ylabel('Intensity',fontsize='xx-large')\n",
    "\n",
    "################to plot overlapping wavefuntions ###########\n",
    "Morse_ex=Linear_combo_wfs(x_range,omega_ex,D_ex,alpha_ex,mu,4,expansion_number,shift_ex)\n",
    "Morse_gs=Linear_combo_wfs(x_range,omega_gs,D_gs,alpha_gs,mu,0,expansion_number,0.0)\n",
    "line1 = ax.plot(x,Morse_ex,color='red',label='Ex')\n",
    "line2 = ax.plot(x,Morse_gs,color='orange',label='Gs')\n",
    "plt.title('Comparison of Gs and Ex LC_Morse wfs',fontsize='xx-large')\n",
    "ax.set_xlabel('Bond Displacent (bohr)',fontsize='xx-large')\n",
    "ax.set_ylabel('Intensity',fontsize='xx-large')\n",
    "\n",
    "ax.legend()\n",
    "plt.show()\n"
   ]
  },
  {
   "cell_type": "code",
   "execution_count": null,
   "metadata": {},
   "outputs": [],
   "source": []
  },
  {
   "cell_type": "code",
   "execution_count": null,
   "metadata": {},
   "outputs": [],
   "source": []
  }
 ],
 "metadata": {
  "kernelspec": {
   "display_name": "Python 3",
   "language": "python",
   "name": "python3"
  },
  "language_info": {
   "codemirror_mode": {
    "name": "ipython",
    "version": 3
   },
   "file_extension": ".py",
   "mimetype": "text/x-python",
   "name": "python",
   "nbconvert_exporter": "python",
   "pygments_lexer": "ipython3",
   "version": "3.6.9"
  }
 },
 "nbformat": 4,
 "nbformat_minor": 2
}
