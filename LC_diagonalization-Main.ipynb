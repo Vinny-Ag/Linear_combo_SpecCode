{
 "cells": [
  {
   "cell_type": "code",
   "execution_count": 109,
   "metadata": {},
   "outputs": [],
   "source": [
    "import matplotlib.pyplot as plt\n",
    "import pylab\n",
    "import math\n",
    "import numpy as np\n",
    "import scipy\n",
    "import scipy.linalg as la\n",
    "# from numpy import linalg as LA\n",
    "# from numpy.linalg import inv\n",
    "import cmath\n",
    "from scipy import special\n",
    "from scipy import integrate\n",
    "from scipy import interpolate\n",
    "from numpy.polynomial.hermite import hermval\n",
    "from sympy import Matrix\n",
    "from numba import jit\n",
    "from scipy.stats import linregress"
   ]
  },
  {
   "cell_type": "code",
   "execution_count": 5,
   "metadata": {},
   "outputs": [],
   "source": [
    "num_points = 4000\n",
    "# n = 0\n",
    "\n",
    "\n",
    "# this value creates the dimensions of the expansion matrix. Atleast 70 for v = 20\n",
    "expansion_number=130\n",
    "\n",
    "\n",
    "# now respresents the max H.O. to be used in the expansion matrix\n",
    "# these values will be used to calculate the max and min turning point and are necessary for capturing the full H.O. \n",
    "# wavefunction\n",
    "\n",
    "n_max_gs = 71\n",
    "n_max_ex = 71\n",
    "\n",
    "#hartree energy unit\n",
    "D_gs = 0.475217 #2.071824545e-18 J\n",
    "D_ex = 0.20149  #8.78444853e-19 J\n",
    "\n",
    "#bohr^-1 units\n",
    "alpha_gs = 1.17199002 #6.20190409869e-11 meters^-1\n",
    "alpha_ex = 1.23719524 #6.54695526318e-11 meters^-1\n",
    "\n",
    "#bohr units'\n",
    "shift = 0.201444790427\n",
    "\n",
    "#mass in a.u.\n",
    "mu = 12178.1624678\n",
    "\n",
    "'frequency in a.u.'\n",
    "omega_gs = 0.01599479871665311 #6.61246943e14 Hz\n",
    "omega_ex = 0.01099445915946515\n",
    "# omega_gs = 0.010353662727838314 #4.28020304e14 rad (value when not divided by 2pi)\n",
    "\n",
    "'Hartree units'\n",
    "E_adiabatic =0.0734987\n",
    "\n",
    "\n",
    "Ha_to_eV=27.211396132\n"
   ]
  },
  {
   "cell_type": "code",
   "execution_count": 104,
   "metadata": {},
   "outputs": [
    {
     "name": "stdout",
     "output_type": "stream",
     "text": [
      "57\n",
      "35\n"
     ]
    }
   ],
   "source": [
    "nbound_gs=int((2.0*D_gs-omega_gs)/omega_gs)\n",
    "print(nbound_gs)\n",
    "\n",
    "nbound_ex=int((2.0*D_ex-omega_ex)/omega_ex)\n",
    "print(nbound_ex)"
   ]
  },
  {
   "cell_type": "code",
   "execution_count": 107,
   "metadata": {},
   "outputs": [],
   "source": [
    "def spring_const(alpha,D):\n",
    "\treturn (alpha**2)*2*D\n",
    "\n",
    "def mode_freq(alpha_gs,D_gs,alpha_ex,D_ex,mu):\n",
    "\tomega_gs = np.sqrt(spring_const(alpha_gs,D_gs)/mu)/2*math.pi\n",
    "\tomega_ex = np.sqrt(spring_const(alpha_ex,D_ex)/mu)/2*math.pi\n",
    "\treturn omega_gs,omega_ex\n",
    "\n",
    "def compute_morse_eval_n(omega,D,n):\n",
    "\treturn omega*(n+0.5)-(omega**2/(4.0*D)*(n+0.5)**2.0)\n",
    "\n",
    "def compute_Harm_eval_n(omega,D,n):\n",
    "\treturn omega*(n+0.5)\n",
    "\n",
    "def find_classical_turning_points_morse(n_max_gs,n_max_ex,alpha_gs,alpha_ex,D_gs,D_ex,shift):\n",
    "\tfreq_gs = mode_freq(alpha_gs,D_gs,alpha_ex,D_ex,mu)[0]\n",
    "\tfreq_ex = mode_freq(alpha_gs,D_gs,alpha_ex,D_ex,mu)[1]\n",
    "\tE_max_gs=compute_Harm_eval_n(freq_gs,D_gs,n_max_gs) # compute the energies for the highest energy morse \n",
    "\tE_max_ex=compute_Harm_eval_n(freq_ex,D_ex,n_max_ex) # state considered\n",
    "\t# find the two classical turning points for the ground state PES\n",
    "\tpoint1_gs = math.sqrt(2*E_max_gs/spring_const(alpha_gs,D_gs))\n",
    "\tpoint2_gs = -math.sqrt(2*E_max_gs/spring_const(alpha_gs,D_gs))\n",
    "\t\n",
    "\tpoint1_ex = math.sqrt(2*E_max_ex/spring_const(alpha_ex,D_ex))+shift\n",
    "\tpoint2_ex = -math.sqrt(2*E_max_ex/spring_const(alpha_ex,D_ex))+shift\n",
    "\n",
    "\t# now find the smallest value and the largest value\n",
    "\tstart_point=min(point1_gs,point2_gs)\n",
    "\tend_point=max(point1_ex,point2_ex)\n",
    "\treturn start_point,end_point\n",
    "\n",
    "\n",
    "start_point=find_classical_turning_points_morse(n_max_gs,n_max_ex,alpha_gs,alpha_ex,D_gs,D_ex,shift)[0]\n",
    "end_point=find_classical_turning_points_morse(n_max_gs,n_max_ex,alpha_gs,alpha_ex,D_gs,D_ex,shift)[1]\n",
    "\n",
    "#mode frequency of each oscillator\n",
    "omega_gs = mode_freq(alpha_gs,D_gs,alpha_ex,D_ex,mu)[0]\n",
    "omega_ex = mode_freq(alpha_gs,D_gs,alpha_ex,D_ex,mu)[1]\n",
    "\n",
    "#quantum turning points, established from 10% increase of classical tp's due to tunneling\n",
    "\n",
    "\n",
    "start_point=start_point-start_point*0.1\n",
    "end_point= end_point+end_point*0.1\n",
    "step_x=(end_point-start_point)/num_points\n",
    "x_range = np.arange(start_point,end_point,step_x)"
   ]
  },
  {
   "cell_type": "code",
   "execution_count": 49,
   "metadata": {},
   "outputs": [
    {
     "name": "stdout",
     "output_type": "stream",
     "text": [
      "spring const 0.6168221678958614\n",
      "max_ex_energy 0.006595533710235135\n",
      "start point 0.3476827043817191\n"
     ]
    }
   ],
   "source": [
    "freq_gs = mode_freq(alpha_gs,D_gs,alpha_ex,D_ex,mu)[0]\n",
    "freq_ex = mode_freq(alpha_gs,D_gs,alpha_ex,D_ex,mu)[1]\n",
    "print('spring const',spring_const(alpha_ex,D_ex))\n",
    "E_max_gs=compute_Harm_eval_n(freq_gs,D_gs,n_max_gs)\n",
    "E_max_ex=compute_Harm_eval_n(freq_ex,D_ex,71)\n",
    "print('max_ex_energy',E_max_ex)\n",
    "point1_ex = math.sqrt(2*E_max_ex/spring_const(alpha_ex,D_ex))+shift\n",
    "point2_ex = -math.sqrt(2*E_max_ex/spring_const(alpha_ex,D_ex))+shift\n",
    "\n",
    "print('start point',point1_ex)"
   ]
  },
  {
   "cell_type": "code",
   "execution_count": 41,
   "metadata": {},
   "outputs": [],
   "source": [
    "\n",
    "def Harm_wavefunc(x_range,omega,mu,n,shift):\n",
    "\twavefunc=np.zeros((num_points,2))\n",
    "\tr_val=x_range*(math.sqrt(mu*omega))\n",
    "\tr_shift_val=shift*(math.sqrt(mu*omega))\n",
    "\therm_coeffs = np.zeros(n+1)\n",
    "\therm_coeffs[n] = 1\n",
    "\tnorm=1/math.sqrt((2**n)*math.factorial(n))*(mu*omega/math.pi)**(0.25)\n",
    "\t#renormalize to prevent error buildup\n",
    "\tcounter = 0.0\n",
    "\tfor i in range(num_points):\n",
    "\t\twavefunc[i,0]=start_point+counter*step_x\n",
    "\t\tcounter = counter+1\n",
    "\twavefunc[:,1] = norm*np.exp(-((r_val-r_shift_val)**2)/2)*np.polynomial.hermite.hermval(r_val-r_shift_val,herm_coeffs)\n",
    "\tpsi_norm = integrate.simps(wavefunc[:,1]**2,dx=step_x)\n",
    "\twavefunc[:,1] = wavefunc[:,1]/math.sqrt(psi_norm)\n",
    "\t\n",
    "\treturn wavefunc\n"
   ]
  },
  {
   "cell_type": "code",
   "execution_count": 42,
   "metadata": {},
   "outputs": [],
   "source": [
    "\n",
    "def H_e_on_gs_wavefunc(wavefunc,D,alpha,shift,mu,E_adiabatic):\n",
    "    # first interpolate the wavefunction as a spline. Then compute derivative\n",
    "    spl=interpolate.UnivariateSpline(wavefunc[:,0],wavefunc[:,1],s=0,k=4)\n",
    "    second_deriv=spl.derivative(n=2)\n",
    "    # calculate the 2nd derivative data only at the finite number of x values. \n",
    "    second_deriv_dat=second_deriv(wavefunc[:,0])\n",
    "    op_wavefunc=np.zeros((wavefunc.shape[0],2))\n",
    "    op_wavefunc[:,0]=wavefunc[:,0]\n",
    "    op_wavefunc[:,1]=-1.0/(2.0*mu)*second_deriv_dat[:]\n",
    "    for i in range(op_wavefunc.shape[0]):\n",
    "        op_wavefunc[i,1]=op_wavefunc[i,1]+(D*(1.0-np.exp(-alpha*(op_wavefunc[i,0]-shift)))**2.0)*wavefunc[i,1]\n",
    "\n",
    "    return op_wavefunc\n",
    "\n",
    "def gs_wavefunc_He_matrix(num_points,omega,start_point,end_point,D,alpha,shift,mu,E_adiabatic,max_n_gs):\n",
    "    overlap_matrix=np.zeros((max_n_gs,max_n_gs),dtype=np.complex_)\n",
    "    final_overlap_matrix = np.zeros((max_n_gs,max_n_gs))   \n",
    "    for i in range(max_n_gs):\n",
    "        func1 = Harm_wavefunc(x_range,omega,mu,i,shift)       \n",
    "        He_func1=H_e_on_gs_wavefunc(func1,D,alpha,shift,mu,E_adiabatic)\n",
    "        for j in range(max_n_gs):\n",
    "            func2 = Harm_wavefunc(x_range,omega,mu,j,shift)\n",
    "            eff_func = func2[:,1]*He_func1[:,1]\n",
    "            overlap_matrix[i,j] = integrate.simps(eff_func,dx=func2[1,0]-func2[0,0])\n",
    "            overlap_matrix[j,i]=overlap_matrix[i,j]\n",
    "    return overlap_matrix"
   ]
  },
  {
   "cell_type": "code",
   "execution_count": 103,
   "metadata": {},
   "outputs": [
    {
     "name": "stdout",
     "output_type": "stream",
     "text": [
      "[0.00809696 0.02408216 0.03978907 0.05521768 0.07036799 0.08524001\n",
      " 0.09983373 0.11414916 0.12818629 0.14194513 0.15542568 0.16862792\n",
      " 0.18155187 0.19419753 0.20656489 0.21865396 0.23046473 0.24199721\n",
      " 0.25325139 0.26422727 0.27492486 0.28534416 0.29548516 0.30534786\n",
      " 0.31493227 0.32423838 0.3332662  0.34201573 0.35048695 0.35867989\n",
      " 0.36659452 0.37423087 0.38158891 0.38866866 0.39547012 0.40199328\n",
      " 0.40823815 0.41420472 0.41989299 0.42530297 0.43043466 0.43528805\n",
      " 0.43986314 0.44415994 0.44817845 0.45191865 0.45538057 0.45856418\n",
      " 0.46146951 0.46409653 0.46644527 0.4685157  0.47030785 0.47182169\n",
      " 0.47305724 0.4740145  0.47469346 0.47509412 0.47521649]\n",
      "subtracted vals\n",
      "[[0.00000000e+00 1.59852001e-02]\n",
      " [1.00000000e+00 1.57069049e-02]\n",
      " [2.00000000e+00 1.54286096e-02]\n",
      " [3.00000000e+00 1.51503143e-02]\n",
      " [4.00000000e+00 1.48720191e-02]\n",
      " [5.00000000e+00 1.45937238e-02]\n",
      " [6.00000000e+00 1.43154285e-02]\n",
      " [7.00000000e+00 1.40371333e-02]\n",
      " [8.00000000e+00 1.37588380e-02]\n",
      " [9.00000000e+00 1.34805427e-02]\n",
      " [1.00000000e+01 1.32022475e-02]\n",
      " [1.10000000e+01 1.29239522e-02]\n",
      " [1.20000000e+01 1.26456569e-02]\n",
      " [1.30000000e+01 1.23673617e-02]\n",
      " [1.40000000e+01 1.20890664e-02]\n",
      " [1.50000000e+01 1.18107711e-02]\n",
      " [1.60000000e+01 1.15324759e-02]\n",
      " [1.70000000e+01 1.12541806e-02]\n",
      " [1.80000000e+01 1.09758853e-02]\n",
      " [1.90000000e+01 1.06975901e-02]\n",
      " [2.00000000e+01 1.04192948e-02]\n",
      " [2.10000000e+01 1.01409995e-02]\n",
      " [2.20000000e+01 9.86270428e-03]\n",
      " [2.30000000e+01 9.58440902e-03]\n",
      " [2.40000000e+01 9.30611375e-03]\n",
      " [2.50000000e+01 9.02781849e-03]\n",
      " [2.60000000e+01 8.74952322e-03]\n",
      " [2.70000000e+01 8.47122796e-03]\n",
      " [2.80000000e+01 8.19293269e-03]\n",
      " [2.90000000e+01 7.91463743e-03]\n",
      " [3.00000000e+01 7.63634216e-03]\n",
      " [3.10000000e+01 7.35804690e-03]\n",
      " [3.20000000e+01 7.07975163e-03]\n",
      " [3.30000000e+01 6.80145637e-03]\n",
      " [3.40000000e+01 6.52316110e-03]\n",
      " [3.50000000e+01 6.24486584e-03]\n",
      " [3.60000000e+01 5.96657057e-03]\n",
      " [3.70000000e+01 5.68827531e-03]\n",
      " [3.80000000e+01 5.40998004e-03]\n",
      " [3.90000000e+01 5.13168478e-03]\n",
      " [4.00000000e+01 4.85338951e-03]\n",
      " [4.10000000e+01 4.57509425e-03]\n",
      " [4.20000000e+01 4.29679898e-03]\n",
      " [4.30000000e+01 4.01850372e-03]\n",
      " [4.40000000e+01 3.74020845e-03]\n",
      " [4.50000000e+01 3.46191319e-03]\n",
      " [4.60000000e+01 3.18361792e-03]\n",
      " [4.70000000e+01 2.90532265e-03]\n",
      " [4.80000000e+01 2.62702739e-03]\n",
      " [4.90000000e+01 2.34873212e-03]\n",
      " [5.00000000e+01 2.07043686e-03]\n",
      " [5.10000000e+01 1.79214159e-03]\n",
      " [5.20000000e+01 1.51384633e-03]\n",
      " [5.30000000e+01 1.23555106e-03]\n",
      " [5.40000000e+01 9.57255799e-04]\n",
      " [5.50000000e+01 6.78960534e-04]\n",
      " [5.60000000e+01 4.00665269e-04]\n",
      " [5.70000000e+01 1.22370003e-04]]\n"
     ]
    },
    {
     "data": {
      "text/plain": [
       "[<matplotlib.lines.Line2D at 0x17f8e8cc2c8>]"
      ]
     },
     "execution_count": 103,
     "metadata": {},
     "output_type": "execute_result"
    },
    {
     "data": {
      "image/png": "[encoded data removed]",
      "text/plain": [
       "<Figure size 432x288 with 1 Axes>"
      ]
     },
     "metadata": {
      "needs_background": "light"
     },
     "output_type": "display_data"
    }
   ],
   "source": [
    "def Eval_matrix(omega,D,n):\n",
    "    Eval_matrix = np.zeros((n))\n",
    "    for i in range(n):\n",
    "        Morse_eval = compute_Harm_eval_n(omega,D,i)\n",
    "        Eval_matrix[i] = Morse_eval\n",
    "    return Eval_matrix\n",
    "\n",
    "evals = Eval_matrix(omega_gs,D_gs,59)\n",
    "print(evals)\n",
    "\n",
    "\n",
    "print('subtracted vals')\n",
    "Sub_vals = np.zeros((evals.shape[0]-1,2))\n",
    "count = 0.0\n",
    "for i in range(evals.shape[0]-1):\n",
    "    Sub_vals[i,1] = evals[i+1]-evals[i]\n",
    "    Sub_vals[i,0] = count\n",
    "    count = count+1.0\n",
    "#     Sub_vals = evals[i]\n",
    "print(Sub_vals)\n",
    "\n",
    "# linregress(Sub_vals[i,1],Sub_vals[i,0])\n",
    "plt.plot(Sub_vals[:,0],Sub_vals[:,1],linestyle=\"\",marker=\"o\")"
   ]
  },
  {
   "cell_type": "code",
   "execution_count": 27,
   "metadata": {},
   "outputs": [],
   "source": [
    "# overlaps = gs_wavefunc_He_matrix(num_points,omega_gs,start_point,end_point,D_gs,alpha_gs,0.0,mu,0.0,expansion_number)\n",
    "# # overlaps2 = gs_wavefunc_He_matrix(num_points,omega_gs,start_point,end_point,D_gs,alpha_gs,0.0,mu,0.0,60)\n",
    "# # LC = Linear_combo_wfs(x_range,omega_gs,D_gs,alpha_gs,mu,expansion_number,0.0,overlaps)\n",
    "# EIG, COEF = la.eigh(overlaps)\n",
    "# # eigenval = np.asarray(total_fnc[0])\n",
    "# # sort_val = eigenval.sort()\n",
    "# print(np.sort(EIG))\n",
    "\n",
    "\n",
    "# print('subtracted vals')\n",
    "# for i in range(EIG.shape[0]):\n",
    "# #     Sub_vals = EIG[i+1]-EIG[i]\n",
    "#     Sub_vals = EIG[i]\n",
    "#     print(Sub_vals)\n",
    "\n",
    "# EIG2,COEF2 = LA.eigh(overlaps2)\n",
    "\n",
    "# bound states = 57, might not be able to go past this value"
   ]
  },
  {
   "cell_type": "code",
   "execution_count": 28,
   "metadata": {},
   "outputs": [],
   "source": [
    "def Morse_wavefunc(num_points,start_point,end_point,D,alpha,mu,n,shift):\n",
    "        # first start by filling array with position points:\n",
    "        wavefunc=np.zeros((num_points,2))\n",
    "        lamda=math.sqrt(2.0*D*mu)/(alpha)\n",
    "        step_x=(end_point-start_point)/num_points\n",
    "        denom=special.gamma(2.0*lamda-n)\n",
    "        if np.isinf(denom):\n",
    "                denom=10e280\n",
    "        num=(math.factorial(n)*(2.0*lamda-2.0*n-1.0))\n",
    "        normalization=math.sqrt(num/denom)\n",
    "        counter=0\n",
    "        for x in wavefunc:\n",
    "                x[0]=start_point+counter*step_x\n",
    "                r_val=(start_point+counter*step_x)*alpha\n",
    "                r_shift_val=(shift)*alpha\n",
    "                z_val=2.0*lamda*math.exp(-(r_val-r_shift_val))\n",
    "                func_val=normalization*z_val**(lamda-n-0.5)*math.exp(-0.5*z_val)*special.assoc_laguerre(z_val,n,2.0*lamda-2.0*n-1.0)\n",
    "                x[1]=func_val\n",
    "                counter=counter+1\n",
    "\n",
    "\t# fix normalization regardless of value of denominator to avoid rounding errors\n",
    "        wavefunc_sq=np.zeros(wavefunc.shape[0])\n",
    "        wavefunc_sq[:]=wavefunc[:,1]*wavefunc[:,1]\n",
    "        normalization=integrate.simps(wavefunc_sq,dx=step_x)\n",
    "        for counter in range(wavefunc.shape[0]):\n",
    "                wavefunc[counter,1]=wavefunc[counter,1]/math.sqrt(normalization)\n",
    "\n",
    "        return wavefunc"
   ]
  },
  {
   "cell_type": "code",
   "execution_count": 108,
   "metadata": {},
   "outputs": [
    {
     "name": "stderr",
     "output_type": "stream",
     "text": [
      "C:\\Users\\vagui\\anaconda3\\lib\\site-packages\\ipykernel_launcher.py:11: ComplexWarning: Casting complex values to real discards the imaginary part\n",
      "  # This is added back by InteractiveShellApp.init_path()\n"
     ]
    },
    {
     "data": {
      "image/png": "[encoded data removed]",
      "text/plain": [
       "<Figure size 720x720 with 1 Axes>"
      ]
     },
     "metadata": {
      "needs_background": "light"
     },
     "output_type": "display_data"
    }
   ],
   "source": [
    "overlaps = gs_wavefunc_He_matrix(num_points,omega_gs,start_point,end_point,D_gs,alpha_gs,0.0,mu,0.0,expansion_number)\n",
    "\n",
    "\n",
    "def Linear_combo_wfs(x_range,omega,D,alpha,mu,expansion_number,shift,overlaps):\n",
    "#     EIG,COEF = LA.eigh(overlaps,UPLO='U')\n",
    "    EIG, COEF = la.eigh(overlaps)\n",
    "#     eigenvec = np.asarray(results[1])\n",
    "    LC_func = np.zeros((num_points,expansion_number))\n",
    "    LC_func_final = np.zeros((num_points,2))\n",
    "    for i in range (expansion_number):\n",
    "        LC_func[:,i] = Harm_wavefunc(x_range,omega,mu,i,shift)[:,1]*COEF[i,19]\n",
    "    LC_func_final[:,0] = x_range\n",
    "    LC_func_final[:,1] = LC_func.sum(axis=1)\n",
    "#     print(EIG)\n",
    "    return LC_func_final\n",
    "\n",
    "\n",
    "\n",
    "\n",
    "wavefunc = Harm_wavefunc(x_range,omega_gs,mu,100,0.0)\n",
    "Morse_exact = Morse_wavefunc(num_points,start_point,end_point,D_gs,alpha_gs,mu,19,0.0)\n",
    "Morse_appx = Linear_combo_wfs(x_range,omega_gs,D_gs,alpha_gs,mu,expansion_number,0.0,overlaps)\n",
    "\n",
    "\n",
    "fig,ax = plt.subplots(figsize=(10,10))\n",
    "\n",
    "x = Morse_appx[:,0]\n",
    "y = Morse_appx[:,1]\n",
    "\n",
    "x1 = wavefunc[:,0]\n",
    "y1 = wavefunc[:,1]\n",
    "\n",
    "x2 = Morse_exact[:,0]\n",
    "y2 = Morse_exact[:,1]\n",
    "\n",
    "\n",
    "line1 = ax.plot(x,y,color='magenta',label='Morse_appx')\n",
    "# line2 = ax.plot(x1,y1,color='blue',label='Harm')\n",
    "line2 = ax.plot(x2,y2,color='orange',label='Morse')\n",
    "ax.legend()\n",
    "ax.set_xlabel('displacement')\n",
    "ax.set_ylabel('energy')\n",
    "plt.show()\n",
    "\n",
    "# print('coefficients:',coefficients)\n",
    "# print('coefficients sum SQ:',sum(coefficients**2))\n",
    "# print('')\n"
   ]
  },
  {
   "cell_type": "markdown",
   "metadata": {},
   "source": [
    " **expansion_number = 50**\n",
    " \n",
    " 0,1 -normal; 2,3,4,5 -flipped; 6,7,8 -normal; 9 -flipped; 10,11 -normal; 12,13,14, -flipped; 15 -normal ( start losing correlation); 16 -flipped; 17,18 -normal; 19,20 -flipped"
   ]
  },
  {
   "cell_type": "markdown",
   "metadata": {},
   "source": [
    " **expansion_number = 60**\n",
    "\n",
    "0,1 -normal; 2,3,4,5 -flipped; 6,7 -normal; 8,9 -flipped; 10,11 -normal; 12,13, -flipped; 14,15 -normal ; 16,17 ( start losing correlation)-flipped; 18 -normal; 19,20 -flipped;\n"
   ]
  },
  {
   "cell_type": "markdown",
   "metadata": {},
   "source": []
  },
  {
   "cell_type": "markdown",
   "metadata": {},
   "source": [
    "**Changing boundaries for Harmonic expansion**\n",
    "\n",
    "max gs states = 57\n",
    "\n",
    "max ex states = 35"
   ]
  },
  {
   "cell_type": "code",
   "execution_count": null,
   "metadata": {},
   "outputs": [],
   "source": []
  }
 ],
 "metadata": {
  "kernelspec": {
   "display_name": "Python 3",
   "language": "python",
   "name": "python3"
  },
  "language_info": {
   "codemirror_mode": {
    "name": "ipython",
    "version": 3
   },
   "file_extension": ".py",
   "mimetype": "text/x-python",
   "name": "python",
   "nbconvert_exporter": "python",
   "pygments_lexer": "ipython3",
   "version": "3.7.6"
  }
 },
 "nbformat": 4,
 "nbformat_minor": 4
}
